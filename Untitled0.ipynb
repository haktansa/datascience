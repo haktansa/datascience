{
  "cells": [
    {
      "cell_type": "code",
      "execution_count": 5,
      "metadata": {
        "id": "fVbr_CtdkIBe"
      },
      "outputs": [],
      "source": [
        "from neuron import h, gui"
      ]
    },
    {
      "cell_type": "code",
      "execution_count": 6,
      "metadata": {
        "id": "1KsvT6vhmrZ1"
      },
      "outputs": [],
      "source": [
        "soma = h.Section(name='soma')"
      ]
    },
    {
      "cell_type": "code",
      "execution_count": 7,
      "metadata": {
        "colab": {
          "base_uri": "https://localhost:8080/"
        },
        "id": "uqr1ndrBmt_c",
        "outputId": "095a3e06-101b-4ecb-ac17-63f3207ca632"
      },
      "outputs": [
        {
          "name": "stdout",
          "output_type": "stream",
          "text": [
            "soma { nseg=1  L=100  Ra=35.4\n",
            "\t/*location 0 attached to cell 0*/\n",
            "\t/* First segment only */\n",
            "\tinsert morphology { diam=500}\n",
            "\tinsert capacitance { cm=1}\n",
            "}\n"
          ]
        },
        {
          "data": {
            "text/plain": [
              "1.0"
            ]
          },
          "execution_count": 7,
          "metadata": {},
          "output_type": "execute_result"
        }
      ],
      "source": [
        "h.psection()"
      ]
    },
    {
      "cell_type": "code",
      "execution_count": 11,
      "metadata": {
        "colab": {
          "base_uri": "https://localhost:8080/"
        },
        "id": "dmuyttPInGH2",
        "outputId": "c974c717-a214-4090-89ef-7d28c5582976"
      },
      "outputs": [
        {
          "data": {
            "text/plain": [
              "soma"
            ]
          },
          "execution_count": 11,
          "metadata": {},
          "output_type": "execute_result"
        }
      ],
      "source": [
        "soma.insert('pas')"
      ]
    },
    {
      "cell_type": "code",
      "execution_count": 12,
      "metadata": {
        "colab": {
          "base_uri": "https://localhost:8080/"
        },
        "id": "kJkWqjJ7nKSs",
        "outputId": "7d0d02a1-fb2f-41f1-d1b7-3101026216fe"
      },
      "outputs": [
        {
          "name": "stdout",
          "output_type": "stream",
          "text": [
            "type(soma) = <class 'nrn.Section'>\n",
            "type(soma(0.5)) =<class 'nrn.Segment'>\n"
          ]
        }
      ],
      "source": [
        "print(\"type(soma) = {}\".format(type(soma)))\n",
        "print(\"type(soma(0.5)) ={}\".format(type(soma(0.5))))"
      ]
    },
    {
      "cell_type": "code",
      "execution_count": 13,
      "metadata": {
        "colab": {
          "base_uri": "https://localhost:8080/"
        },
        "id": "3T57RdV0nNUs",
        "outputId": "b5af72f3-7c7e-40f3-9139-4d60c0465e4c"
      },
      "outputs": [
        {
          "name": "stdout",
          "output_type": "stream",
          "text": [
            "['__class__', '__delattr__', '__dir__', '__doc__', '__eq__', '__format__', '__ge__', '__getattribute__', '__gt__', '__hash__', '__init__', '__init_subclass__', '__iter__', '__le__', '__lt__', '__module__', '__ne__', '__new__', '__reduce__', '__reduce_ex__', '__repr__', '__setattr__', '__sizeof__', '__str__', '__subclasshook__', 'e', 'g', 'i', 'is_ion', 'name', 'segment']\n",
            "0.001\n",
            "0.001\n"
          ]
        }
      ],
      "source": [
        "mech = soma(0.5).pas\n",
        "print(dir(mech))\n",
        "print(mech.g)\n",
        "print(soma(0.5).pas.g)"
      ]
    },
    {
      "cell_type": "markdown",
      "metadata": {
        "id": "Ouj1dggumtzT"
      },
      "source": []
    },
    {
      "cell_type": "code",
      "execution_count": 14,
      "metadata": {
        "id": "23M9fLugnQN1"
      },
      "outputs": [],
      "source": [
        "asyn = h.AlphaSynapse(soma(0.5))"
      ]
    },
    {
      "cell_type": "code",
      "execution_count": 15,
      "metadata": {
        "colab": {
          "base_uri": "https://localhost:8080/"
        },
        "id": "wsK7KKN4nSKE",
        "outputId": "e7cb6dcf-ec22-462a-9343-37c5e0230fc6"
      },
      "outputs": [
        {
          "name": "stdout",
          "output_type": "stream",
          "text": [
            "asyn.e = 0.0\n",
            "asyn.gmax = 0.0\n",
            "asyn.onset = 0.0\n",
            "asyn.tau = 0.1\n"
          ]
        }
      ],
      "source": [
        "dir(asyn)\n",
        "print(\"asyn.e = {}\".format(asyn.e))\n",
        "print(\"asyn.gmax = {}\".format(asyn.gmax))\n",
        "print(\"asyn.onset = {}\".format(asyn.onset))\n",
        "print(\"asyn.tau = {}\".format(asyn.tau))"
      ]
    },
    {
      "cell_type": "code",
      "execution_count": 16,
      "metadata": {
        "id": "xi4ibh9lnU00"
      },
      "outputs": [],
      "source": [
        "asyn.onset = 20\n",
        "asyn.gmax = 1"
      ]
    },
    {
      "cell_type": "code",
      "execution_count": 17,
      "metadata": {
        "colab": {
          "base_uri": "https://localhost:8080/"
        },
        "id": "dIweYgZynYKD",
        "outputId": "dcc12b6a-dbf5-429d-e145-737668aa9c2f"
      },
      "outputs": [
        {
          "name": "stdout",
          "output_type": "stream",
          "text": [
            "soma { nseg=1  L=100  Ra=35.4\n",
            "\t/*location 0 attached to cell 0*/\n",
            "\t/* First segment only */\n",
            "\tinsert morphology { diam=500}\n",
            "\tinsert capacitance { cm=1}\n",
            "\tinsert pas { g_pas=0.001 e_pas=-70}\n",
            "\tinsert AlphaSynapse { onset=20 tau=0.1 gmax=1 e=0}\n",
            "}\n"
          ]
        },
        {
          "data": {
            "text/plain": [
              "1.0"
            ]
          },
          "execution_count": 17,
          "metadata": {},
          "output_type": "execute_result"
        }
      ],
      "source": [
        "h.psection()"
      ]
    },
    {
      "cell_type": "code",
      "execution_count": 18,
      "metadata": {
        "colab": {
          "base_uri": "https://localhost:8080/"
        },
        "id": "A0R2hO1knbtc",
        "outputId": "295faa0a-2b32-4ad2-e044-5975346dd3d7"
      },
      "outputs": [
        {
          "data": {
            "text/plain": [
              "Vector[4]"
            ]
          },
          "execution_count": 18,
          "metadata": {},
          "output_type": "execute_result"
        }
      ],
      "source": [
        "v_vec = h.Vector()\n",
        "t_vec = h.Vector()\n",
        "v_vec.record(soma(0.5)._ref_v)\n",
        "t_vec.record(h._ref_t)"
      ]
    },
    {
      "cell_type": "code",
      "execution_count": 19,
      "metadata": {
        "colab": {
          "base_uri": "https://localhost:8080/"
        },
        "id": "a_gJ-bying90",
        "outputId": "b2db17af-8e49-4810-9c64-2cc4d1e6376c"
      },
      "outputs": [
        {
          "data": {
            "text/plain": [
              "0.0"
            ]
          },
          "execution_count": 19,
          "metadata": {},
          "output_type": "execute_result"
        }
      ],
      "source": [
        "h.tstop = 40.0\n",
        "h.run()"
      ]
    },
    {
      "cell_type": "code",
      "execution_count": 20,
      "metadata": {
        "colab": {
          "base_uri": "https://localhost:8080/",
          "height": 388
        },
        "id": "H_JlFKANnqqz",
        "outputId": "d43683d9-ede5-4101-b2e0-834ba0cb1214"
      },
      "outputs": [
        {
          "data": {
            "image/png": "[encoded data removed]",
            "text/plain": [
              "<Figure size 800x400 with 1 Axes>"
            ]
          },
          "metadata": {},
          "output_type": "display_data"
        }
      ],
      "source": [
        "from matplotlib import pyplot\n",
        "pyplot.figure(figsize=(8,4))\n",
        "pyplot.plot(t_vec, v_vec)\n",
        "pyplot.xlabel('time (ms)')\n",
        "pyplot.ylabel('mV')\n",
        "pyplot.show()"
      ]
    },
    {
      "cell_type": "code",
      "execution_count": 21,
      "metadata": {
        "id": "0xLQIprnnuWD"
      },
      "outputs": [],
      "source": [
        "import pickle\n",
        "with open('t_vec.p', 'wb') as t_vec_file:\n",
        "    pickle.dump(t_vec, t_vec_file)\n",
        "with open('v_vec.p', 'wb') as v_vec_file:\n",
        "    pickle.dump(v_vec, v_vec_file)"
      ]
    },
    {
      "cell_type": "code",
      "execution_count": 22,
      "metadata": {
        "colab": {
          "base_uri": "https://localhost:8080/",
          "height": 388
        },
        "id": "DuvHFdO8nxX8",
        "outputId": "33afedcd-3e26-44cd-a644-fbfd0c0ed28e"
      },
      "outputs": [
        {
          "data": {
            "image/png": "[encoded data removed]",
            "text/plain": [
              "<Figure size 800x400 with 1 Axes>"
            ]
          },
          "metadata": {},
          "output_type": "display_data"
        }
      ],
      "source": [
        "from neuron import h, gui\n",
        "from matplotlib import pyplot\n",
        "import pickle\n",
        "\n",
        "# Unpickle\n",
        "with open('t_vec.p', 'rb') as t_vec_file:\n",
        "    t_vec = pickle.load(t_vec_file)\n",
        "with open('v_vec.p', 'rb') as vec_file:\n",
        "    v_vec = pickle.load(vec_file)\n",
        "\n",
        "# Confirm\n",
        "pyplot.figure(figsize=(8,4)) # Default figsize is (8,6)\n",
        "pyplot.plot(t_vec, v_vec)\n",
        "pyplot.xlabel('time (ms)')\n",
        "pyplot.ylabel('mV')\n",
        "pyplot.show()"
      ]
    }
  ],
  "metadata": {
    "colab": {
      "provenance": []
    },
    "kernelspec": {
      "display_name": "Python 3",
      "name": "python3"
    },
    "language_info": {
      "name": "python"
    }
  },
  "nbformat": 4,
  "nbformat_minor": 0
}
